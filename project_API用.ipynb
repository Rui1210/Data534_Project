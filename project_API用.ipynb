{
 "cells": [
  {
   "cell_type": "code",
   "execution_count": 154,
   "id": "92a2fac7",
   "metadata": {},
   "outputs": [],
   "source": [
    "library(httr)\n",
    "library(jsonlite)\n",
    "library(tidyr)\n",
    "library(dplyr)\n",
    "library(lubridate)\n",
    "library(ggplot2)\n",
    "library(ggthemes)\n",
    "library(RColorBrewer)\n",
    "library(scales)\n",
    "library(lubridate)"
   ]
  },
  {
   "cell_type": "code",
   "execution_count": 245,
   "id": "0d2b93a4",
   "metadata": {},
   "outputs": [],
   "source": [
    "# check input date is valid\n",
    "validate_date_range <- function(from_date, to_date){\n",
    "    tryCatch({\n",
    "        from_date = as.Date(from_date)\n",
    "        to_date = as.Date(to_date)\n",
    "        \n",
    "        # input date cannot earlier than 20180511(API will not give response)\n",
    "        min_allowed_date <- as.Date(\"2018-05-11\")\n",
    "        if (from_date < min_allowed_date || to_date < min_allowed_date) {\n",
    "            stop(\"Error: from_date and to_date cannot be earlier than May 11, 2018.\")\n",
    "        }\n",
    "        \n",
    "        days_difference <- as.numeric(difftime(to_date, from_date, units = \"days\"))\n",
    "        \n",
    "        if (to_date < from_date) {\n",
    "            stop(\"Error: to_date must be greater than or equal to from_date\")\n",
    "        } else if (from_date > Sys.Date()) {\n",
    "            stop(\"from_date cannot be in the future.\")\n",
    "        } else if (to_date > Sys.Date()) {\n",
    "            stop(\"to_date cannot be in the future.\")\n",
    "        } else if (days_difference > 30){\n",
    "            stop(\"Date range cannot exceed 30 days.\")\n",
    "        }\n",
    "        return(c(from_date = from_date, to_date = to_date))\n",
    "        \n",
    "    }, error = function(e) {\n",
    "        cat(\"Error converting dates:\", e$message, \"\\n\")\n",
    "        return(c(from_date = NULL, to_date = NULL))\n",
    "    })\n",
    "    \n",
    "}"
   ]
  },
  {
   "cell_type": "code",
   "execution_count": 246,
   "id": "d2c35515",
   "metadata": {},
   "outputs": [],
   "source": [
    "# get dataframe of carbon generation mix\n",
    "carbon_generation <- function(from_date, to_date){\n",
    "    domain = 'https://api.carbonintensity.org.uk/generation'\n",
    "    \n",
    "    dates <- validate_date_range(from_date, to_date)\n",
    "    if (!is.null(dates)) {\n",
    "        from_date = dates[[1]]\n",
    "        to_date = dates[[2]]\n",
    "        cat(\"Valid date range. Proceeding with API request.\\n\")\n",
    "        \n",
    "        # transfer from_date and to_date\n",
    "        from_date <- format(from_date, \"%Y-%m-%dT%H:%M:00Z\")\n",
    "        from_date <- as.POSIXct(from_date, tz = \"UTC\") + minutes(30)\n",
    "        from_date <- format(from_date, \"%Y-%m-%dT%H:%M:00Z\")\n",
    "        \n",
    "        to_date <- format(to_date, \"%Y-%m-%dT%H:%M:00Z\")\n",
    "        to_date <- as.POSIXct(to_date, tz = \"UTC\") + days(1) - minutes(30)\n",
    "        to_date <- format(to_date, \"%Y-%m-%dT%H:%M:00Z\")\n",
    "        \n",
    "        api_url <- paste0(domain, \"/\", from_date, \"/\", to_date)\n",
    "        #cat(api_url)\n",
    "        \n",
    "        response = GET(api_url)\n",
    "        json_content = content(response, \"text\",encoding = \"UTF-8\")\n",
    "        data <- fromJSON(json_content)$data\n",
    "        \n",
    "        json_content = content(response, \"text\",encoding = \"UTF-8\")\n",
    "        data <- fromJSON(json_content)$data\n",
    "        data <- unnest(data, cols = generationmix)\n",
    "        data <- spread(data, key = fuel, value = perc)\n",
    "\n",
    "        data$from <- as.POSIXct(data$from, format = \"%Y-%m-%dT%H:%MZ\")\n",
    "        data$to <- as.POSIXct(data$to, format = \"%Y-%m-%dT%H:%MZ\")\n",
    "        data$from <- floor_date(data$from, unit = \"day\")\n",
    "        data$to <- floor_date(data$to, unit = \"day\")\n",
    "\n",
    "        data <- select(data, -from)\n",
    "        data <- rename(data, date = to)\n",
    "\n",
    "        data_generation <- data %>%\n",
    "          group_by(date) %>%\n",
    "          summarize(\n",
    "            biomass = sum(biomass),\n",
    "            coal = sum(coal),\n",
    "            gas = sum(gas),\n",
    "            hydro = sum(hydro),\n",
    "            imports = sum(imports),\n",
    "            nuclear = sum(nuclear),\n",
    "            other = sum(other),\n",
    "            solar = sum(solar),\n",
    "            wind = sum(wind)\n",
    "          )\n",
    "        data_generation\n",
    "    } \n",
    "}"
   ]
  },
  {
   "cell_type": "code",
   "execution_count": 291,
   "id": "0b07355a",
   "metadata": {},
   "outputs": [],
   "source": [
    "carbon_generation_visual <- function(from_date, to_date, chart_type){\n",
    "    # valid chart type: \"line\", \"stack\", \"pie\"\n",
    "    \n",
    "    data_generation <- carbon_generation(from_date, to_date)\n",
    "    df_long <- data_generation %>%\n",
    "      pivot_longer(cols = -date, names_to = \"fuel\", values_to = \"value\")\n",
    "    \n",
    "    chart_type <- tolower(chart_type)\n",
    "    if (chart_type == \"line\"){\n",
    "        generation_line <- ggplot(df_long, aes(x = date, y = value,color = fuel)) + geom_line() + geom_point() + theme_stata()\n",
    "        generation_line\n",
    "    } else if (chart_type == \"stack\"){\n",
    "        generation_stack <- ggplot(df_long, aes(x = date, y = value,fill = fuel)) + \n",
    "            geom_area() + \n",
    "            theme_stata() + \n",
    "            scale_fill_brewer(palette=\"Greens\")\n",
    "        generation_stack\n",
    "    } else if (chart_type == \"pie\"){\n",
    "        df_colSum <- colSums(data_generation[, -1], na.rm = TRUE)\n",
    "        df_colSum <- as.data.frame(t(df_colSum))\n",
    "        df_colSum_long <- pivot_longer(df_colSum, everything(), names_to = \"Fuel\", values_to = \"Sum\")\n",
    "        df_colSum_long <- df_colSum_long %>%\n",
    "          mutate(Percentage = Sum / sum(Sum))\n",
    "\n",
    "\n",
    "        brewer_palette <- \"YlGnBu\"\n",
    "        palette_function <- brewer_pal(palette = brewer_palette)(length(df_colSum_long$Fuel))\n",
    "        percentage <- sprintf(\"%s\\n%.2f%%\", df_colSum_long$Fuel, df_colSum_long$Percentage * 100)\n",
    "        pie(df_colSum_long$Percentage, labels = percentage, col = palette_function)\n",
    "    } else{\n",
    "        stop(\"Error: Invalid chart type. Supported types are 'line', 'stack', and 'pie'.\")\n",
    "    }\n",
    "}"
   ]
  },
  {
   "cell_type": "code",
   "execution_count": null,
   "id": "213a10f3",
   "metadata": {},
   "outputs": [],
   "source": []
  },
  {
   "cell_type": "code",
   "execution_count": null,
   "id": "2877e1cc",
   "metadata": {},
   "outputs": [],
   "source": []
  },
  {
   "cell_type": "code",
   "execution_count": null,
   "id": "017de33c",
   "metadata": {},
   "outputs": [],
   "source": []
  },
  {
   "cell_type": "code",
   "execution_count": 292,
   "id": "c7707167",
   "metadata": {},
   "outputs": [
    {
     "name": "stdout",
     "output_type": "stream",
     "text": [
      "Valid date range. Proceeding with API request.\n",
      "https://api.carbonintensity.org.uk/generation/2018-05-11T00:30:00Z/2018-05-30T23:30:00Z"
     ]
    },
    {
     "ename": "ERROR",
     "evalue": "Error in carbon_generation_visual(\"2018-5-11\", \"2018-5-30\", \"abc\"): Error: Invalid chart type. Supported types are 'line', 'stack', and 'pie'.\n",
     "output_type": "error",
     "traceback": [
      "Error in carbon_generation_visual(\"2018-5-11\", \"2018-5-30\", \"abc\"): Error: Invalid chart type. Supported types are 'line', 'stack', and 'pie'.\nTraceback:\n",
      "1. carbon_generation_visual(\"2018-5-11\", \"2018-5-30\", \"abc\")",
      "2. stop(\"Error: Invalid chart type. Supported types are 'line', 'stack', and 'pie'.\")   # at line 31 of file <text>"
     ]
    }
   ],
   "source": [
    "carbon_generation_visual(\"2018-5-11\", \"2018-5-30\",\"abc\")"
   ]
  },
  {
   "cell_type": "code",
   "execution_count": 257,
   "id": "08d68134",
   "metadata": {},
   "outputs": [
    {
     "name": "stdout",
     "output_type": "stream",
     "text": [
      "Error converting dates: Error: from_date and to_date cannot be earlier than May 11, 2018. \n"
     ]
    },
    {
     "data": {
      "text/plain": [
       "NULL"
      ]
     },
     "metadata": {},
     "output_type": "display_data"
    }
   ],
   "source": [
    "dates <- validate_date_range(\"2018-5-10\", \"2018-5-11\")\n",
    "dates"
   ]
  },
  {
   "cell_type": "code",
   "execution_count": 250,
   "id": "4cbc31eb",
   "metadata": {},
   "outputs": [
    {
     "data": {
      "text/html": [
       "<style>\n",
       ".dl-inline {width: auto; margin:0; padding: 0}\n",
       ".dl-inline>dt, .dl-inline>dd {float: none; width: auto; display: inline-block}\n",
       ".dl-inline>dt::after {content: \":\\0020\"; padding-right: .5ex}\n",
       ".dl-inline>dt:not(:first-of-type) {padding-left: .5ex}\n",
       "</style><dl class=dl-inline><dt>from_date</dt><dd><time datetime=\"2018-05-12\">2018-05-12</time></dd><dt>to_date</dt><dd><time datetime=\"2018-05-12\">2018-05-12</time></dd></dl>\n"
      ],
      "text/latex": [
       "\\begin{description*}\n",
       "\\item[from\\textbackslash{}\\_date] 2018-05-12\n",
       "\\item[to\\textbackslash{}\\_date] 2018-05-12\n",
       "\\end{description*}\n"
      ],
      "text/markdown": [
       "from_date\n",
       ":   2018-05-12to_date\n",
       ":   2018-05-12\n",
       "\n"
      ],
      "text/plain": [
       "   from_date      to_date \n",
       "\"2018-05-12\" \"2018-05-12\" "
      ]
     },
     "metadata": {},
     "output_type": "display_data"
    }
   ],
   "source": [
    "dates <- validate_date_range(\"2018-05-12\", \"2018-05-12\")\n",
    "dates"
   ]
  },
  {
   "cell_type": "code",
   "execution_count": 259,
   "id": "3643e61c",
   "metadata": {},
   "outputs": [
    {
     "name": "stdout",
     "output_type": "stream",
     "text": [
      "Valid date range. Proceeding with API request.\n",
      "https://api.carbonintensity.org.uk/generation/2018-05-11T00:30:00Z/2018-05-12T23:30:00Z"
     ]
    },
    {
     "data": {
      "text/html": [
       "<table class=\"dataframe\">\n",
       "<caption>A tibble: 2 × 10</caption>\n",
       "<thead>\n",
       "\t<tr><th scope=col>date</th><th scope=col>biomass</th><th scope=col>coal</th><th scope=col>gas</th><th scope=col>hydro</th><th scope=col>imports</th><th scope=col>nuclear</th><th scope=col>other</th><th scope=col>solar</th><th scope=col>wind</th></tr>\n",
       "\t<tr><th scope=col>&lt;dttm&gt;</th><th scope=col>&lt;dbl&gt;</th><th scope=col>&lt;dbl&gt;</th><th scope=col>&lt;dbl&gt;</th><th scope=col>&lt;dbl&gt;</th><th scope=col>&lt;dbl&gt;</th><th scope=col>&lt;dbl&gt;</th><th scope=col>&lt;dbl&gt;</th><th scope=col>&lt;dbl&gt;</th><th scope=col>&lt;dbl&gt;</th></tr>\n",
       "</thead>\n",
       "<tbody>\n",
       "\t<tr><td>2018-05-11</td><td>307.5</td><td>16.5</td><td>1352.5</td><td>78.7</td><td>401.1</td><td>1134.5</td><td>11</td><td>247.9</td><td>1150.3</td></tr>\n",
       "\t<tr><td>2018-05-12</td><td>292.0</td><td>28.3</td><td>1955.6</td><td>81.3</td><td>476.2</td><td>1222.0</td><td> 0</td><td>327.9</td><td> 416.7</td></tr>\n",
       "</tbody>\n",
       "</table>\n"
      ],
      "text/latex": [
       "A tibble: 2 × 10\n",
       "\\begin{tabular}{llllllllll}\n",
       " date & biomass & coal & gas & hydro & imports & nuclear & other & solar & wind\\\\\n",
       " <dttm> & <dbl> & <dbl> & <dbl> & <dbl> & <dbl> & <dbl> & <dbl> & <dbl> & <dbl>\\\\\n",
       "\\hline\n",
       "\t 2018-05-11 & 307.5 & 16.5 & 1352.5 & 78.7 & 401.1 & 1134.5 & 11 & 247.9 & 1150.3\\\\\n",
       "\t 2018-05-12 & 292.0 & 28.3 & 1955.6 & 81.3 & 476.2 & 1222.0 &  0 & 327.9 &  416.7\\\\\n",
       "\\end{tabular}\n"
      ],
      "text/markdown": [
       "\n",
       "A tibble: 2 × 10\n",
       "\n",
       "| date &lt;dttm&gt; | biomass &lt;dbl&gt; | coal &lt;dbl&gt; | gas &lt;dbl&gt; | hydro &lt;dbl&gt; | imports &lt;dbl&gt; | nuclear &lt;dbl&gt; | other &lt;dbl&gt; | solar &lt;dbl&gt; | wind &lt;dbl&gt; |\n",
       "|---|---|---|---|---|---|---|---|---|---|\n",
       "| 2018-05-11 | 307.5 | 16.5 | 1352.5 | 78.7 | 401.1 | 1134.5 | 11 | 247.9 | 1150.3 |\n",
       "| 2018-05-12 | 292.0 | 28.3 | 1955.6 | 81.3 | 476.2 | 1222.0 |  0 | 327.9 |  416.7 |\n",
       "\n"
      ],
      "text/plain": [
       "  date       biomass coal gas    hydro imports nuclear other solar wind  \n",
       "1 2018-05-11 307.5   16.5 1352.5 78.7  401.1   1134.5  11    247.9 1150.3\n",
       "2 2018-05-12 292.0   28.3 1955.6 81.3  476.2   1222.0   0    327.9  416.7"
      ]
     },
     "metadata": {},
     "output_type": "display_data"
    }
   ],
   "source": [
    "carbon_generation(\"2018-5-11\", \"2018-5-12\")"
   ]
  },
  {
   "cell_type": "code",
   "execution_count": 228,
   "id": "b2da6b8a",
   "metadata": {},
   "outputs": [
    {
     "name": "stdout",
     "output_type": "stream",
     "text": [
      "Valid date range. Proceeding with API request.\n"
     ]
    },
    {
     "data": {
      "text/html": [
       "<table class=\"dataframe\">\n",
       "<caption>A tibble: 1 × 10</caption>\n",
       "<thead>\n",
       "\t<tr><th scope=col>date</th><th scope=col>biomass</th><th scope=col>coal</th><th scope=col>gas</th><th scope=col>hydro</th><th scope=col>imports</th><th scope=col>nuclear</th><th scope=col>other</th><th scope=col>solar</th><th scope=col>wind</th></tr>\n",
       "\t<tr><th scope=col>&lt;dttm&gt;</th><th scope=col>&lt;dbl&gt;</th><th scope=col>&lt;dbl&gt;</th><th scope=col>&lt;dbl&gt;</th><th scope=col>&lt;dbl&gt;</th><th scope=col>&lt;dbl&gt;</th><th scope=col>&lt;dbl&gt;</th><th scope=col>&lt;dbl&gt;</th><th scope=col>&lt;dbl&gt;</th><th scope=col>&lt;dbl&gt;</th></tr>\n",
       "</thead>\n",
       "<tbody>\n",
       "\t<tr><td>2018-05-12</td><td>285.2</td><td>28.1</td><td>1922.2</td><td>79.1</td><td>466.5</td><td>1194.9</td><td>0</td><td>327.9</td><td>396.1</td></tr>\n",
       "</tbody>\n",
       "</table>\n"
      ],
      "text/latex": [
       "A tibble: 1 × 10\n",
       "\\begin{tabular}{llllllllll}\n",
       " date & biomass & coal & gas & hydro & imports & nuclear & other & solar & wind\\\\\n",
       " <dttm> & <dbl> & <dbl> & <dbl> & <dbl> & <dbl> & <dbl> & <dbl> & <dbl> & <dbl>\\\\\n",
       "\\hline\n",
       "\t 2018-05-12 & 285.2 & 28.1 & 1922.2 & 79.1 & 466.5 & 1194.9 & 0 & 327.9 & 396.1\\\\\n",
       "\\end{tabular}\n"
      ],
      "text/markdown": [
       "\n",
       "A tibble: 1 × 10\n",
       "\n",
       "| date &lt;dttm&gt; | biomass &lt;dbl&gt; | coal &lt;dbl&gt; | gas &lt;dbl&gt; | hydro &lt;dbl&gt; | imports &lt;dbl&gt; | nuclear &lt;dbl&gt; | other &lt;dbl&gt; | solar &lt;dbl&gt; | wind &lt;dbl&gt; |\n",
       "|---|---|---|---|---|---|---|---|---|---|\n",
       "| 2018-05-12 | 285.2 | 28.1 | 1922.2 | 79.1 | 466.5 | 1194.9 | 0 | 327.9 | 396.1 |\n",
       "\n"
      ],
      "text/plain": [
       "  date       biomass coal gas    hydro imports nuclear other solar wind \n",
       "1 2018-05-12 285.2   28.1 1922.2 79.1  466.5   1194.9  0     327.9 396.1"
      ]
     },
     "metadata": {},
     "output_type": "display_data"
    }
   ],
   "source": [
    "carbon_generation(\"2018-5-12\", \"2018-5-13\")"
   ]
  },
  {
   "cell_type": "code",
   "execution_count": null,
   "id": "98f205a3",
   "metadata": {},
   "outputs": [],
   "source": []
  },
  {
   "cell_type": "code",
   "execution_count": null,
   "id": "27ed1c87",
   "metadata": {},
   "outputs": [],
   "source": []
  },
  {
   "cell_type": "code",
   "execution_count": null,
   "id": "d9eaefdd",
   "metadata": {},
   "outputs": [],
   "source": []
  },
  {
   "cell_type": "code",
   "execution_count": 229,
   "id": "8a5591ee",
   "metadata": {},
   "outputs": [],
   "source": [
    "\n"
   ]
  },
  {
   "cell_type": "code",
   "execution_count": 230,
   "id": "9a9227ff",
   "metadata": {},
   "outputs": [
    {
     "data": {
      "text/html": [
       "<table class=\"dataframe\">\n",
       "<caption>A tibble: 1 × 10</caption>\n",
       "<thead>\n",
       "\t<tr><th scope=col>date</th><th scope=col>biomass</th><th scope=col>coal</th><th scope=col>gas</th><th scope=col>hydro</th><th scope=col>imports</th><th scope=col>nuclear</th><th scope=col>other</th><th scope=col>solar</th><th scope=col>wind</th></tr>\n",
       "\t<tr><th scope=col>&lt;dttm&gt;</th><th scope=col>&lt;dbl&gt;</th><th scope=col>&lt;dbl&gt;</th><th scope=col>&lt;dbl&gt;</th><th scope=col>&lt;dbl&gt;</th><th scope=col>&lt;dbl&gt;</th><th scope=col>&lt;dbl&gt;</th><th scope=col>&lt;dbl&gt;</th><th scope=col>&lt;dbl&gt;</th><th scope=col>&lt;dbl&gt;</th></tr>\n",
       "</thead>\n",
       "<tbody>\n",
       "\t<tr><td>2018-05-12</td><td>171.5</td><td>6.2</td><td>919.4</td><td>26</td><td>256.3</td><td>687.9</td><td>0</td><td>202.1</td><td>230.6</td></tr>\n",
       "</tbody>\n",
       "</table>\n"
      ],
      "text/latex": [
       "A tibble: 1 × 10\n",
       "\\begin{tabular}{llllllllll}\n",
       " date & biomass & coal & gas & hydro & imports & nuclear & other & solar & wind\\\\\n",
       " <dttm> & <dbl> & <dbl> & <dbl> & <dbl> & <dbl> & <dbl> & <dbl> & <dbl> & <dbl>\\\\\n",
       "\\hline\n",
       "\t 2018-05-12 & 171.5 & 6.2 & 919.4 & 26 & 256.3 & 687.9 & 0 & 202.1 & 230.6\\\\\n",
       "\\end{tabular}\n"
      ],
      "text/markdown": [
       "\n",
       "A tibble: 1 × 10\n",
       "\n",
       "| date &lt;dttm&gt; | biomass &lt;dbl&gt; | coal &lt;dbl&gt; | gas &lt;dbl&gt; | hydro &lt;dbl&gt; | imports &lt;dbl&gt; | nuclear &lt;dbl&gt; | other &lt;dbl&gt; | solar &lt;dbl&gt; | wind &lt;dbl&gt; |\n",
       "|---|---|---|---|---|---|---|---|---|---|\n",
       "| 2018-05-12 | 171.5 | 6.2 | 919.4 | 26 | 256.3 | 687.9 | 0 | 202.1 | 230.6 |\n",
       "\n"
      ],
      "text/plain": [
       "  date       biomass coal gas   hydro imports nuclear other solar wind \n",
       "1 2018-05-12 171.5   6.2  919.4 26    256.3   687.9   0     202.1 230.6"
      ]
     },
     "metadata": {},
     "output_type": "display_data"
    }
   ],
   "source": [
    "#test_domain \n",
    "domain= 'https://api.carbonintensity.org.uk/generation/2018-05-12T00:30Z/2018-05-12T12:30Z'\n",
    "\n",
    "\n",
    "response = GET(domain)\n",
    "json_content = content(response, \"text\",encoding = \"UTF-8\")\n",
    "data <- fromJSON(json_content)$data\n",
    "data <- unnest(data, cols = generationmix)\n",
    "data <- spread(data, key = fuel, value = perc)\n",
    "\n",
    "data$from <- as.POSIXct(data$from, format = \"%Y-%m-%dT%H:%MZ\")\n",
    "data$to <- as.POSIXct(data$to, format = \"%Y-%m-%dT%H:%MZ\")\n",
    "data$from <- floor_date(data$from, unit = \"day\")\n",
    "data$to <- floor_date(data$to, unit = \"day\")\n",
    "\n",
    "data <- select(data, -from)\n",
    "data <- rename(data, date = to)\n",
    "\n",
    "data_generation <- data %>%\n",
    "  group_by(date) %>%\n",
    "  summarize(\n",
    "    biomass = sum(biomass),\n",
    "    coal = sum(coal),\n",
    "    gas = sum(gas),\n",
    "    hydro = sum(hydro),\n",
    "    imports = sum(imports),\n",
    "    nuclear = sum(nuclear),\n",
    "    other = sum(other),\n",
    "    solar = sum(solar),\n",
    "    wind = sum(wind)\n",
    "  )\n",
    "data_generation"
   ]
  },
  {
   "cell_type": "code",
   "execution_count": 4,
   "id": "7f1a0497",
   "metadata": {},
   "outputs": [
    {
     "data": {
      "image/png": "[encoded data removed]",
      "text/plain": [
       "plot without title"
      ]
     },
     "metadata": {
      "image/png": {
       "height": 420,
       "width": 420
      }
     },
     "output_type": "display_data"
    }
   ],
   "source": [
    "# plot line chart\n",
    "df_long <- data_generation %>%\n",
    "  pivot_longer(cols = -date, names_to = \"fuel\", values_to = \"value\")\n",
    "\n",
    "generation_line <- ggplot(df_long, aes(x = date, y = value,color = fuel)) + geom_line() + geom_point() + theme_stata()\n",
    "generation_line"
   ]
  },
  {
   "cell_type": "code",
   "execution_count": 5,
   "id": "11f96177",
   "metadata": {},
   "outputs": [
    {
     "data": {
      "image/png": "[encoded data removed]",
      "text/plain": [
       "plot without title"
      ]
     },
     "metadata": {
      "image/png": {
       "height": 420,
       "width": 420
      }
     },
     "output_type": "display_data"
    }
   ],
   "source": [
    "# plot stack chart\n",
    "df_long <- data_generation %>%\n",
    "  pivot_longer(cols = -date, names_to = \"fuel\", values_to = \"value\")\n",
    "\n",
    "generation_stack <- ggplot(df_long, aes(x = date, y = value,fill = fuel)) + \n",
    "    geom_area() + \n",
    "    theme_stata() + \n",
    "    scale_fill_brewer(palette=\"Greens\")\n",
    "generation_stack"
   ]
  },
  {
   "cell_type": "code",
   "execution_count": 287,
   "id": "f634e9d7",
   "metadata": {},
   "outputs": [
    {
     "data": {
      "image/png": "[encoded data removed]",
      "text/plain": [
       "plot without title"
      ]
     },
     "metadata": {
      "image/png": {
       "height": 420,
       "width": 420
      }
     },
     "output_type": "display_data"
    }
   ],
   "source": [
    "# plot pie chart\n",
    "df_colSum <- colSums(data_generation[, -1], na.rm = TRUE)\n",
    "df_colSum <- as.data.frame(t(df_colSum))\n",
    "df_colSum_long <- pivot_longer(df_colSum, everything(), names_to = \"Fuel\", values_to = \"Sum\")\n",
    "df_colSum_long <- df_colSum_long %>%\n",
    "  mutate(Percentage = Sum / sum(Sum))\n",
    "\n",
    "\n",
    "brewer_palette <- \"YlGnBu\"\n",
    "palette_function <- brewer_pal(palette = brewer_palette)(length(df_colSum_long$Fuel))\n",
    "percentage <- sprintf(\"%s\\n%.2f%%\", df_colSum_long$Fuel, df_colSum_long$Percentage * 100)\n",
    "pie(df_colSum_long$Percentage, labels = percentage, col = palette_function)\n",
    "#legend(\"top\",legend = df_colSum_long$Fuel, fill = palette_function, horiz = TRUE)"
   ]
  },
  {
   "cell_type": "code",
   "execution_count": null,
   "id": "a485af76",
   "metadata": {},
   "outputs": [],
   "source": []
  }
 ],
 "metadata": {
  "kernelspec": {
   "display_name": "R",
   "language": "R",
   "name": "ir"
  },
  "language_info": {
   "codemirror_mode": "r",
   "file_extension": ".r",
   "mimetype": "text/x-r-source",
   "name": "R",
   "pygments_lexer": "r",
   "version": "4.3.1"
  },
  "varInspector": {
   "cols": {
    "lenName": 16,
    "lenType": 16,
    "lenVar": 40
   },
   "kernels_config": {
    "python": {
     "delete_cmd_postfix": "",
     "delete_cmd_prefix": "del ",
     "library": "var_list.py",
     "varRefreshCmd": "print(var_dic_list())"
    },
    "r": {
     "delete_cmd_postfix": ") ",
     "delete_cmd_prefix": "rm(",
     "library": "var_list.r",
     "varRefreshCmd": "cat(var_dic_list()) "
    }
   },
   "types_to_exclude": [
    "module",
    "function",
    "builtin_function_or_method",
    "instance",
    "_Feature"
   ],
   "window_display": false
  }
 },
 "nbformat": 4,
 "nbformat_minor": 5
}
